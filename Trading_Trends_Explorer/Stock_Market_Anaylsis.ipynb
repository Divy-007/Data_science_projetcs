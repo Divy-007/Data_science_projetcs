{
 "cells": [
  {
   "cell_type": "code",
   "execution_count": null,
   "id": "e8d39adf-4a03-491c-bef8-ea7a58711b2a",
   "metadata": {},
   "outputs": [],
   "source": []
  }
 ],
 "metadata": {
  "kernelspec": {
   "display_name": "Python (pandas_old)",
   "language": "python",
   "name": "pandas_old"
  },
  "language_info": {
   "codemirror_mode": {
    "name": "ipython",
    "version": 3
   },
   "file_extension": ".py",
   "mimetype": "text/x-python",
   "name": "python",
   "nbconvert_exporter": "python",
   "pygments_lexer": "ipython3",
   "version": "3.10.18"
  }
 },
 "nbformat": 4,
 "nbformat_minor": 5
}
