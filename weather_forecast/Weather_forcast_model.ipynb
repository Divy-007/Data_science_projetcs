{
 "cells": [
  {
   "cell_type": "markdown",
   "id": "0ab019af-36e2-4e0e-ad72-5ab1ce9abedd",
   "metadata": {},
   "source": [
    "# Weather Pattern Model"
   ]
  },
  {
   "cell_type": "markdown",
   "id": "ad9aadc7-2468-484a-b667-78e5d80ee9e2",
   "metadata": {},
   "source": [
    "### Importing libraries"
   ]
  },
  {
   "cell_type": "code",
   "execution_count": 20,
   "id": "0f6e9684-d2ef-4256-ae4b-5a8a01cecbb6",
   "metadata": {},
   "outputs": [],
   "source": [
    "import numpy as np\n"
   ]
  },
  {
   "cell_type": "markdown",
   "id": "9a010487-57b1-4ee8-b9f2-4ab7cba4be87",
   "metadata": {},
   "source": [
    "#### declaring all weather which we can have."
   ]
  },
  {
   "cell_type": "code",
<<<<<<< HEAD
   "execution_count": 1,
=======
   "execution_count": 52,
>>>>>>> 1070947fcbf897f40eca1ae253a5cd96152ed49a
   "id": "6fc43881-d9ff-42b8-a030-2450808bc991",
   "metadata": {},
   "outputs": [],
   "source": [
    "states = [\"sunny\", \"cloudy\", \"rainy\", \"storm\"]\n",
    "n_states=len(states)\n"
   ]
  },
  {
   "cell_type": "markdown",
   "id": "40b2029b-46ca-4c0d-8279-f4bc5483cdce",
   "metadata": {},
   "source": [
    "#### making transition table "
   ]
  },
  {
   "cell_type": "code",
<<<<<<< HEAD
   "execution_count": 2,
=======
   "execution_count": 73,
>>>>>>> 1070947fcbf897f40eca1ae253a5cd96152ed49a
   "id": "09e945ed-e843-4e91-b9ec-e87411c6d014",
   "metadata": {},
   "outputs": [
    {
<<<<<<< HEAD
     "ename": "NameError",
     "evalue": "name 'np' is not defined",
     "output_type": "error",
     "traceback": [
      "\u001b[31m---------------------------------------------------------------------------\u001b[39m",
      "\u001b[31mNameError\u001b[39m                                 Traceback (most recent call last)",
      "\u001b[36mCell\u001b[39m\u001b[36m \u001b[39m\u001b[32mIn[2]\u001b[39m\u001b[32m, line 1\u001b[39m\n\u001b[32m----> \u001b[39m\u001b[32m1\u001b[39m tansition_table=\u001b[43mnp\u001b[49m.array([\n\u001b[32m      2\u001b[39m     [\u001b[32m0.6\u001b[39m,\u001b[32m0.1\u001b[39m,\u001b[32m0.3\u001b[39m,\u001b[32m0\u001b[39m],\u001b[38;5;66;03m# from sunny \u001b[39;00m\n\u001b[32m      3\u001b[39m     [\u001b[32m0.2\u001b[39m,\u001b[32m0.4\u001b[39m,\u001b[32m0.3\u001b[39m,\u001b[32m0.1\u001b[39m], \u001b[38;5;66;03m#from cloud\u001b[39;00m\n\u001b[32m      4\u001b[39m     [\u001b[32m0.1\u001b[39m,\u001b[32m0.4\u001b[39m,\u001b[32m0.4\u001b[39m,\u001b[32m0.1\u001b[39m], \u001b[38;5;66;03m#from rainy\u001b[39;00m\n\u001b[32m      5\u001b[39m     [\u001b[32m0.1\u001b[39m,\u001b[32m0.2\u001b[39m,\u001b[32m0.4\u001b[39m,\u001b[32m0.3\u001b[39m]\u001b[38;5;66;03m#from storm\u001b[39;00m\n\u001b[32m      6\u001b[39m \n\u001b[32m      7\u001b[39m ])\n",
      "\u001b[31mNameError\u001b[39m: name 'np' is not defined"
=======
     "name": "stdout",
     "output_type": "stream",
     "text": [
      "weather forecast :['rainy', 'cloudy', 'storm', 'rainy', 'sunny', 'rainy', 'cloudy', 'cloudy', 'rainy', 'rainy']\n",
      "sunny days 1\n",
      "rainy days 5\n",
      "cloudy days 3\n",
      "strom days 1\n",
      "the streak of rainy season : 2\n"
>>>>>>> 1070947fcbf897f40eca1ae253a5cd96152ed49a
     ]
    }
   ],
   "source": [
    "tansition_table=np.array([\n",
    "    [0.6,0.1,0.3,0],# from sunny \n",
    "    [0.2,0.4,0.3,0.1], #from cloud\n",
    "    [0.1,0.4,0.4,0.1], #from rainy\n",
    "    [0.1,0.2,0.4,0.3]#from storm\n",
    "\n",
    "])\n",
    "\n",
    "\n",
    "\n",
    "                         "
   ]
  },
  {
   "cell_type": "markdown",
   "id": "e34a4a50-e09b-4d27-8aaa-f238047624e4",
   "metadata": {},
   "source": [
    "### weather forecast list of 10 days"
   ]
  },
  {
   "cell_type": "code",
<<<<<<< HEAD
   "execution_count": null,
=======
   "execution_count": 105,
>>>>>>> 1070947fcbf897f40eca1ae253a5cd96152ed49a
   "id": "31371a4b-b359-4bef-a74f-18b101276c81",
   "metadata": {},
   "outputs": [
    {
     "name": "stdout",
     "output_type": "stream",
     "text": [
      "weather forecast :['cloudy', 'rainy', 'rainy', 'cloudy', 'cloudy', 'rainy', 'sunny', 'rainy', 'rainy', 'rainy']\n"
     ]
    }
   ],
   "source": [
    "current_state=np.random.choice(states)\n",
    "weather=[current_state]\n",
    "days =10\n",
    "for i in range(days-1):\n",
    "    state_index=states.index(current_state)\n",
    "    current_state=np.random.choice(states, p=tansition_table[state_index])\n",
    "    weather.append(current_state)\n",
    "weather = list(map(str, weather))\n",
    "print(f\"weather forecast :{weather}\")"
   ]
  },
  {
   "cell_type": "markdown",
   "id": "12529227-2764-4df9-8f11-feacb569a27c",
   "metadata": {},
   "source": [
    "### anaylizing the weather------"
   ]
  },
  {
   "cell_type": "code",
   "execution_count": 106,
   "id": "1131632c-c626-406e-b192-0d1dd19fe0ae",
   "metadata": {},
   "outputs": [
    {
     "name": "stdout",
     "output_type": "stream",
     "text": [
      "sunny days- 1\n",
      "rainy days- 6\n",
      "cloudy days- 3\n",
      "strom days- 0\n",
      "the streak of rainy season : 3\n"
     ]
    }
   ],
   "source": [
    "print(\"sunny days-\",weather.count(\"sunny\"))\n",
    "print(\"rainy days-\",weather.count(\"rainy\"))\n",
    "print(\"cloudy days-\",weather.count(\"cloudy\"))\n",
    "print(\"strom days-\",weather.count(\"storm\"))\n",
    "count=0\n",
    "streak=0\n",
    "for i in range(len(weather)):\n",
    "    if weather[i]==\"rainy\":\n",
    "        count+=1\n",
    "        if count>streak:\n",
    "            streak=count\n",
    "        \n",
    "    else:\n",
    "        count=0\n",
    "print(f\"the streak of rainy season : {streak}\")"
   ]
  }
 ],
 "metadata": {
  "kernelspec": {
<<<<<<< HEAD
   "display_name": "base",
=======
   "display_name": "Python 3 (ipykernel)",
>>>>>>> 1070947fcbf897f40eca1ae253a5cd96152ed49a
   "language": "python",
   "name": "python3"
  },
  "language_info": {
   "codemirror_mode": {
    "name": "ipython",
    "version": 3
   },
   "file_extension": ".py",
   "mimetype": "text/x-python",
   "name": "python",
   "nbconvert_exporter": "python",
   "pygments_lexer": "ipython3",
   "version": "3.13.5"
  }
 },
 "nbformat": 4,
 "nbformat_minor": 5
}
